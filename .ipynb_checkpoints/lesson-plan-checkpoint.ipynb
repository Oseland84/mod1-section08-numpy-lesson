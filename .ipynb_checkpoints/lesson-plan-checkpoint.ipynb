{
 "cells": [
  {
   "cell_type": "markdown",
   "metadata": {},
   "source": [
    "### Questions From Students At Beginning of Class\n"
   ]
  },
  {
   "cell_type": "markdown",
   "metadata": {},
   "source": [
    "### Objectives\n",
    "YWBAT \n",
    "* compare and contrast lists and sets in python\n",
    "* calculate the number of permutations vs combinations for a given set of numbers\n",
    "* compute the probability for the following situations\n",
    "    * basic probability\n",
    "    * probability with combinations\n",
    "    * probability with permutations\n",
    "* compute bernouli/binomial calculations"
   ]
  },
  {
   "cell_type": "code",
   "execution_count": 7,
   "metadata": {},
   "outputs": [],
   "source": [
    "import numpy as np\n",
    "from string import ascii_uppercase\n",
    "from collections import Counter"
   ]
  },
  {
   "cell_type": "markdown",
   "metadata": {},
   "source": [
    "### Before we begin, we need the following function"
   ]
  },
  {
   "cell_type": "code",
   "execution_count": 3,
   "metadata": {},
   "outputs": [],
   "source": [
    "def factorial(n):\n",
    "    \"\"\"\n",
    "    choose a student to write this function\n",
    "    input\n",
    "    n: int - some positive integer\n",
    "    \n",
    "    returns\n",
    "    fac_n: int - n! ex: if n = 5 we return 5! = 120\n",
    "    \"\"\"\n",
    "    pass"
   ]
  },
  {
   "cell_type": "code",
   "execution_count": 2,
   "metadata": {},
   "outputs": [
    {
     "data": {
      "text/plain": [
       "array([ 8,  6,  9,  9, 13, 17,  5,  5,  2, 17])"
      ]
     },
     "execution_count": 2,
     "metadata": {},
     "output_type": "execute_result"
    }
   ],
   "source": [
    "# lst\n",
    "lst = np.random.randint(0, 20, 10)\n",
    "lst"
   ]
  },
  {
   "cell_type": "code",
   "execution_count": null,
   "metadata": {},
   "outputs": [],
   "source": [
    "# What is the set of the list above?\n",
    "set(lst)"
   ]
  },
  {
   "cell_type": "code",
   "execution_count": null,
   "metadata": {},
   "outputs": [],
   "source": [
    "# how many permutations exist for the set of numbers?\n"
   ]
  },
  {
   "cell_type": "code",
   "execution_count": null,
   "metadata": {},
   "outputs": [],
   "source": []
  },
  {
   "cell_type": "code",
   "execution_count": null,
   "metadata": {},
   "outputs": [],
   "source": [
    "# how many different groups of 3 can be made from the set of number?\n"
   ]
  },
  {
   "cell_type": "code",
   "execution_count": 14,
   "metadata": {},
   "outputs": [],
   "source": [
    "def combinations(n, k):\n",
    "    \"\"\"\n",
    "    input\n",
    "    n: int - the total number of objects\n",
    "    k: int - the desired group size\n",
    "    \n",
    "    return\n",
    "    m: int - the total number of groups of size k for a given population size n\n",
    "    \"\"\"\n",
    "    pass"
   ]
  },
  {
   "cell_type": "code",
   "execution_count": 13,
   "metadata": {},
   "outputs": [
    {
     "data": {
      "text/plain": [
       "Counter({'C': 1,\n",
       "         'D': 1,\n",
       "         'E': 2,\n",
       "         'F': 2,\n",
       "         'G': 1,\n",
       "         'H': 1,\n",
       "         'J': 2,\n",
       "         'K': 2,\n",
       "         'L': 1,\n",
       "         'O': 1,\n",
       "         'P': 1,\n",
       "         'Q': 1,\n",
       "         'R': 1,\n",
       "         'S': 2,\n",
       "         'T': 2,\n",
       "         'U': 3,\n",
       "         'W': 1,\n",
       "         'X': 2,\n",
       "         'Y': 2,\n",
       "         'Z': 1})"
      ]
     },
     "execution_count": 13,
     "metadata": {},
     "output_type": "execute_result"
    }
   ],
   "source": [
    "first_letters = np.random.choice(list(ascii_uppercase), 30)\n",
    "first_letters_dictionary = Counter(first_letters)\n",
    "first_letters_dictionary"
   ]
  },
  {
   "cell_type": "code",
   "execution_count": null,
   "metadata": {},
   "outputs": [],
   "source": [
    "\"\"\"\n",
    "The dictionary above is a dictionary of first letters of names of 30 students\n",
    "\n",
    "What is the probability of choosing a student whose first name begins with an F or a G?\n",
    "\n",
    "What is the probability of choosing a students whose first name begins with a vowel?\n",
    "\n",
    "What is the probability of choosing a student and their first name doesn't begin with letters P-Y?\n",
    "\"\"\"\n",
    "\n",
    "# solutions here\n",
    "\n",
    "\n"
   ]
  },
  {
   "cell_type": "code",
   "execution_count": null,
   "metadata": {},
   "outputs": [],
   "source": [
    "### Bernouli/Binomial Problems"
   ]
  },
  {
   "cell_type": "code",
   "execution_count": null,
   "metadata": {},
   "outputs": [],
   "source": [
    "\"\"\"\n",
    "Use the dictionary of first letter names above\n",
    "\n",
    "You pick a student at random 10 times in a row.  If you pick a student who's\n",
    "name begins with a P, Y, T, H, O, N you win the round!\n",
    "\n",
    "What is the probability of winning exactly 6 games?\n",
    "\n",
    "\n",
    "What is the probability of winning more than 6 games?\n",
    "\n",
    "\n",
    "What is the probability of winning less than 6 games?\n",
    "\n",
    "\n",
    "What is the probability of winning less than 4 games?\n",
    "\"\"\"\n",
    "\n"
   ]
  },
  {
   "cell_type": "code",
   "execution_count": null,
   "metadata": {},
   "outputs": [],
   "source": [
    "# Write a function that calculates a Bernouli Probability \n",
    "\n",
    "def bernouli(p, q, games, wins_needed):\n",
    "    \"\"\"\n",
    "    input\n",
    "    p: float - fill in description\n",
    "    q: float - fill in description\n",
    "    games: int - fill in description\n",
    "    wins_needed: int - fill in description\n",
    "    \n",
    "    return\n",
    "    prob: float - fill in description\n",
    "    \"\"\"\n",
    "    pass"
   ]
  }
 ],
 "metadata": {
  "kernelspec": {
   "display_name": "Python 3",
   "language": "python",
   "name": "python3"
  },
  "language_info": {
   "codemirror_mode": {
    "name": "ipython",
    "version": 3
   },
   "file_extension": ".py",
   "mimetype": "text/x-python",
   "name": "python",
   "nbconvert_exporter": "python",
   "pygments_lexer": "ipython3",
   "version": "3.6.4"
  }
 },
 "nbformat": 4,
 "nbformat_minor": 2
}
